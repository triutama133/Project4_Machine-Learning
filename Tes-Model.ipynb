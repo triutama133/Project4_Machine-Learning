{
 "cells": [
  {
   "cell_type": "code",
   "execution_count": 2,
   "id": "7ae4393c-1f24-4029-b623-e0232a07da66",
   "metadata": {
    "tags": []
   },
   "outputs": [],
   "source": [
    "from modelling import FraudModel"
   ]
  },
  {
   "cell_type": "code",
   "execution_count": 3,
   "id": "0167c710-636c-4c9f-812b-3db4dc6d3b0e",
   "metadata": {
    "tags": []
   },
   "outputs": [
    {
     "data": {
      "text/plain": [
       "{'step': 1,\n",
       " 'type': 'PAYMENT',\n",
       " 'amount': 9839.64,\n",
       " 'oldbalanceOrg': 170136.0,\n",
       " 'newbalanceOrig': 160296.36,\n",
       " 'oldbalanceDest': 0.0,\n",
       " 'newbalanceDest': 0.0}"
      ]
     },
     "execution_count": 3,
     "metadata": {},
     "output_type": "execute_result"
    }
   ],
   "source": [
    "#parameter inputan data\n",
    "new_data = {\n",
    "    'step': 1,\n",
    "    'type': 'PAYMENT',\n",
    "    'amount': 9839.64,\n",
    "    'oldbalanceOrg': 170136.0,\n",
    "    'newbalanceOrig': 160296.36,\n",
    "    'oldbalanceDest': 0.0,\n",
    "    'newbalanceDest': 0.0\n",
    "}\n",
    "\n",
    "new_data"
   ]
  },
  {
   "cell_type": "code",
   "execution_count": 4,
   "id": "2fb5e06f-5a49-431e-acbe-093b2fadd2fe",
   "metadata": {
    "tags": []
   },
   "outputs": [
    {
     "data": {
      "text/plain": [
       "'/home/trianka-utama/Documents/Project4/modelling/'"
      ]
     },
     "execution_count": 4,
     "metadata": {},
     "output_type": "execute_result"
    }
   ],
   "source": [
    "#parameter inputan path\n",
    "import os\n",
    "\n",
    "path = os.getcwd()\n",
    "path = path + \"/modelling/\"\n",
    "path"
   ]
  },
  {
   "cell_type": "code",
   "execution_count": null,
   "id": "c4b367d2-7f25-4df1-85ab-57f5ab931df4",
   "metadata": {
    "tags": []
   },
   "outputs": [],
   "source": [
    "FraudModel.runModel(new_data, path)"
   ]
  },
  {
   "cell_type": "code",
   "execution_count": null,
   "id": "d4ac09b4-5a30-4268-9118-bf631bee1b58",
   "metadata": {},
   "outputs": [],
   "source": []
  }
 ],
 "metadata": {
  "kernelspec": {
   "display_name": "Python 3 (ipykernel)",
   "language": "python",
   "name": "python3"
  },
  "language_info": {
   "codemirror_mode": {
    "name": "ipython",
    "version": 3
   },
   "file_extension": ".py",
   "mimetype": "text/x-python",
   "name": "python",
   "nbconvert_exporter": "python",
   "pygments_lexer": "ipython3",
   "version": "3.12.5"
  }
 },
 "nbformat": 4,
 "nbformat_minor": 5
}
